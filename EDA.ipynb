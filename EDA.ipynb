{
 "cells": [
  {
   "cell_type": "markdown",
   "metadata": {},
   "source": [
    "# Weather in VietNam"
   ]
  },
  {
   "cell_type": "markdown",
   "metadata": {},
   "source": [
    "## City"
   ]
  },
  {
   "cell_type": "code",
   "execution_count": 1,
   "metadata": {},
   "outputs": [],
   "source": [
    "import place\n",
    "import weather\n",
    "import pandas as pd"
   ]
  },
  {
   "cell_type": "code",
   "execution_count": 2,
   "metadata": {},
   "outputs": [],
   "source": [
    "city_dao = place.dao.MongoDBCityDAO('localhost', 27017, 'weather_vietnam')"
   ]
  },
  {
   "cell_type": "code",
   "execution_count": 3,
   "metadata": {},
   "outputs": [],
   "source": [
    "cities = place.business.get_city(city_dao,\n",
    "                                 type='all_country',\n",
    "                                 country='VN')"
   ]
  },
  {
   "cell_type": "code",
   "execution_count": 4,
   "metadata": {},
   "outputs": [],
   "source": [
    "# Convert to dataframe\n",
    "lst = [city.to_json() for city in cities]\n",
    "for item in lst:\n",
    "    item['country'] = item['country']['code']"
   ]
  },
  {
   "cell_type": "code",
   "execution_count": 5,
   "metadata": {},
   "outputs": [
    {
     "data": {
      "text/html": [
       "<div>\n",
       "<style scoped>\n",
       "    .dataframe tbody tr th:only-of-type {\n",
       "        vertical-align: middle;\n",
       "    }\n",
       "\n",
       "    .dataframe tbody tr th {\n",
       "        vertical-align: top;\n",
       "    }\n",
       "\n",
       "    .dataframe thead th {\n",
       "        text-align: right;\n",
       "    }\n",
       "</style>\n",
       "<table border=\"1\" class=\"dataframe\">\n",
       "  <thead>\n",
       "    <tr style=\"text-align: right;\">\n",
       "      <th></th>\n",
       "      <th>name</th>\n",
       "      <th>lon</th>\n",
       "      <th>lat</th>\n",
       "      <th>time_zone</th>\n",
       "      <th>country</th>\n",
       "    </tr>\n",
       "    <tr>\n",
       "      <th>city_id</th>\n",
       "      <th></th>\n",
       "      <th></th>\n",
       "      <th></th>\n",
       "      <th></th>\n",
       "      <th></th>\n",
       "    </tr>\n",
       "  </thead>\n",
       "  <tbody>\n",
       "    <tr>\n",
       "      <th>1</th>\n",
       "      <td>Ha Noi</td>\n",
       "      <td>105.854444</td>\n",
       "      <td>21.029450</td>\n",
       "      <td>7</td>\n",
       "      <td>VN</td>\n",
       "    </tr>\n",
       "    <tr>\n",
       "      <th>2</th>\n",
       "      <td>Ha Giang</td>\n",
       "      <td>104.984634</td>\n",
       "      <td>22.826459</td>\n",
       "      <td>7</td>\n",
       "      <td>VN</td>\n",
       "    </tr>\n",
       "    <tr>\n",
       "      <th>4</th>\n",
       "      <td>Cao Bang</td>\n",
       "      <td>106.258831</td>\n",
       "      <td>22.665761</td>\n",
       "      <td>7</td>\n",
       "      <td>VN</td>\n",
       "    </tr>\n",
       "    <tr>\n",
       "      <th>6</th>\n",
       "      <td>Bac Kan</td>\n",
       "      <td>105.837248</td>\n",
       "      <td>22.149491</td>\n",
       "      <td>7</td>\n",
       "      <td>VN</td>\n",
       "    </tr>\n",
       "    <tr>\n",
       "      <th>8</th>\n",
       "      <td>Tuyen Quang</td>\n",
       "      <td>105.217387</td>\n",
       "      <td>21.787969</td>\n",
       "      <td>7</td>\n",
       "      <td>VN</td>\n",
       "    </tr>\n",
       "    <tr>\n",
       "      <th>...</th>\n",
       "      <td>...</td>\n",
       "      <td>...</td>\n",
       "      <td>...</td>\n",
       "      <td>...</td>\n",
       "      <td>...</td>\n",
       "    </tr>\n",
       "    <tr>\n",
       "      <th>92</th>\n",
       "      <td>Can Tho</td>\n",
       "      <td>105.788000</td>\n",
       "      <td>10.036400</td>\n",
       "      <td>7</td>\n",
       "      <td>VN</td>\n",
       "    </tr>\n",
       "    <tr>\n",
       "      <th>93</th>\n",
       "      <td>Vi Thanh</td>\n",
       "      <td>105.467035</td>\n",
       "      <td>9.783223</td>\n",
       "      <td>7</td>\n",
       "      <td>VN</td>\n",
       "    </tr>\n",
       "    <tr>\n",
       "      <th>94</th>\n",
       "      <td>Soc Trang</td>\n",
       "      <td>105.973321</td>\n",
       "      <td>9.602672</td>\n",
       "      <td>7</td>\n",
       "      <td>VN</td>\n",
       "    </tr>\n",
       "    <tr>\n",
       "      <th>95</th>\n",
       "      <td>Bac Lieu</td>\n",
       "      <td>105.726068</td>\n",
       "      <td>9.282488</td>\n",
       "      <td>7</td>\n",
       "      <td>VN</td>\n",
       "    </tr>\n",
       "    <tr>\n",
       "      <th>96</th>\n",
       "      <td>Ca Mau</td>\n",
       "      <td>105.152000</td>\n",
       "      <td>9.178200</td>\n",
       "      <td>7</td>\n",
       "      <td>VN</td>\n",
       "    </tr>\n",
       "  </tbody>\n",
       "</table>\n",
       "<p>62 rows × 5 columns</p>\n",
       "</div>"
      ],
      "text/plain": [
       "                name         lon        lat  time_zone country\n",
       "city_id                                                       \n",
       "1             Ha Noi  105.854444  21.029450          7      VN\n",
       "2           Ha Giang  104.984634  22.826459          7      VN\n",
       "4           Cao Bang  106.258831  22.665761          7      VN\n",
       "6            Bac Kan  105.837248  22.149491          7      VN\n",
       "8        Tuyen Quang  105.217387  21.787969          7      VN\n",
       "...              ...         ...        ...        ...     ...\n",
       "92           Can Tho  105.788000  10.036400          7      VN\n",
       "93          Vi Thanh  105.467035   9.783223          7      VN\n",
       "94         Soc Trang  105.973321   9.602672          7      VN\n",
       "95          Bac Lieu  105.726068   9.282488          7      VN\n",
       "96            Ca Mau  105.152000   9.178200          7      VN\n",
       "\n",
       "[62 rows x 5 columns]"
      ]
     },
     "execution_count": 5,
     "metadata": {},
     "output_type": "execute_result"
    }
   ],
   "source": [
    "df = pd.DataFrame(lst)\n",
    "df.index = df['city_id']\n",
    "df.drop(columns=['city_id'], inplace=True)\n",
    "df"
   ]
  },
  {
   "cell_type": "markdown",
   "metadata": {},
   "source": [
    "## Weather Status"
   ]
  },
  {
   "cell_type": "code",
   "execution_count": 6,
   "metadata": {},
   "outputs": [],
   "source": [
    "weather_dao = weather.dao.MongoDBWeatherStatusDAO('localhost', 27017, 'weather_vietnam')\n",
    "hanoi_weather_statuses = weather.business.get_weather_status(\n",
    "    weather_status_dao=weather_dao,\n",
    "    city_id=1\n",
    ")"
   ]
  },
  {
   "cell_type": "code",
   "execution_count": 7,
   "metadata": {},
   "outputs": [
    {
     "data": {
      "text/plain": [
       "{'city_id': 1,\n",
       " 'collect_time': datetime.datetime(2025, 2, 7, 16, 40, 49),\n",
       " 'temp': 290.12,\n",
       " 'feels_temp': 289.54,\n",
       " 'pressure': 1021,\n",
       " 'humidity': 64,\n",
       " 'sea_level': 1021,\n",
       " 'grnd_level': 1021,\n",
       " 'visibility': 10000,\n",
       " 'wind_speed': 5.21,\n",
       " 'wind_deg': 24,\n",
       " 'wind_gust': 9.54,\n",
       " 'clouds_all': 100,\n",
       " 'rain': None,\n",
       " 'sunrise': datetime.datetime(2025, 2, 7, 6, 31, 16),\n",
       " 'sunset': datetime.datetime(2025, 2, 7, 17, 50, 15),\n",
       " 'aqi': 4,\n",
       " 'pm2_5': 60.87,\n",
       " 'general_weathers': [{'status_id': 804,\n",
       "   'description': 'overcast clouds: 85-100%'}]}"
      ]
     },
     "execution_count": 7,
     "metadata": {},
     "output_type": "execute_result"
    }
   ],
   "source": [
    "hanoi_weather_statuses[0].to_json()"
   ]
  },
  {
   "cell_type": "code",
   "execution_count": 8,
   "metadata": {},
   "outputs": [],
   "source": [
    "lst = [weather_status.to_json() for weather_status in hanoi_weather_statuses]\n",
    "for item in lst:\n",
    "    item['general_weathers'] = ', '.join(str(gen_item['status_id']) for gen_item in item['general_weathers'])"
   ]
  },
  {
   "cell_type": "code",
   "execution_count": 9,
   "metadata": {},
   "outputs": [
    {
     "data": {
      "text/plain": [
       "50"
      ]
     },
     "execution_count": 9,
     "metadata": {},
     "output_type": "execute_result"
    }
   ],
   "source": [
    "df = pd.DataFrame(lst)\n",
    "len(df)"
   ]
  },
  {
   "cell_type": "code",
   "execution_count": 10,
   "metadata": {},
   "outputs": [],
   "source": [
    "from datetime import datetime\n",
    "import math\n",
    "df['collect_time_fix'] = df['collect_time'].apply(lambda x: datetime(x.year, x.month, x.day, math.floor(x.hour/5) * 5, 0, 0))"
   ]
  },
  {
   "cell_type": "code",
   "execution_count": 11,
   "metadata": {},
   "outputs": [
    {
     "data": {
      "text/plain": [
       "0    2025-02-07 15:00:00\n",
       "1    2025-02-07 15:00:00\n",
       "2    2025-02-07 15:00:00\n",
       "3    2025-02-07 15:00:00\n",
       "4    2025-02-07 15:00:00\n",
       "5    2025-02-08 10:00:00\n",
       "6    2025-02-08 10:00:00\n",
       "7    2025-02-08 10:00:00\n",
       "8    2025-02-08 10:00:00\n",
       "9    2025-02-08 10:00:00\n",
       "10   2025-02-08 10:00:00\n",
       "11   2025-02-08 10:00:00\n",
       "12   2025-02-08 10:00:00\n",
       "13   2025-02-08 10:00:00\n",
       "14   2025-02-08 10:00:00\n",
       "15   2025-02-08 15:00:00\n",
       "16   2025-02-08 15:00:00\n",
       "17   2025-02-08 15:00:00\n",
       "18   2025-02-08 15:00:00\n",
       "19   2025-02-08 20:00:00\n",
       "20   2025-02-09 15:00:00\n",
       "21   2025-02-09 15:00:00\n",
       "22   2025-02-09 15:00:00\n",
       "23   2025-02-09 20:00:00\n",
       "24   2025-02-09 20:00:00\n",
       "25   2025-02-09 20:00:00\n",
       "26   2025-02-10 10:00:00\n",
       "27   2025-02-10 10:00:00\n",
       "28   2025-02-10 10:00:00\n",
       "29   2025-02-11 05:00:00\n",
       "30   2025-02-11 05:00:00\n",
       "31   2025-02-11 10:00:00\n",
       "32   2025-02-11 10:00:00\n",
       "33   2025-02-11 10:00:00\n",
       "34   2025-02-11 10:00:00\n",
       "35   2025-02-11 10:00:00\n",
       "36   2025-02-11 15:00:00\n",
       "37   2025-02-11 20:00:00\n",
       "38   2025-02-11 20:00:00\n",
       "39   2025-02-12 10:00:00\n",
       "40   2025-02-12 10:00:00\n",
       "41   2025-02-12 10:00:00\n",
       "42   2025-02-13 10:00:00\n",
       "43   2025-02-13 10:00:00\n",
       "44   2025-02-13 10:00:00\n",
       "45   2025-02-13 10:00:00\n",
       "46   2025-02-17 20:00:00\n",
       "47   2025-02-17 20:00:00\n",
       "48   2025-02-17 20:00:00\n",
       "49   2025-02-17 20:00:00\n",
       "Name: collect_time_fix, dtype: datetime64[ns]"
      ]
     },
     "execution_count": 11,
     "metadata": {},
     "output_type": "execute_result"
    }
   ],
   "source": [
    "df['collect_time_fix']"
   ]
  },
  {
   "cell_type": "code",
   "execution_count": 12,
   "metadata": {},
   "outputs": [],
   "source": [
    "fix_df = df.drop_duplicates(['collect_time_fix'], keep='first')"
   ]
  },
  {
   "cell_type": "code",
   "execution_count": 13,
   "metadata": {},
   "outputs": [],
   "source": [
    "import matplotlib.pyplot as plt\n",
    "%matplotlib inline"
   ]
  },
  {
   "cell_type": "code",
   "execution_count": 18,
   "metadata": {},
   "outputs": [
    {
     "data": {
      "image/png": "[encoded data removed]",
      "text/plain": [
       "<Figure size 1000x500 with 1 Axes>"
      ]
     },
     "metadata": {},
     "output_type": "display_data"
    }
   ],
   "source": [
    "plt.figure(figsize=(10,5))\n",
    "plt.plot(fix_df['collect_time_fix'], fix_df['pm2_5'], marker='o')\n",
    "plt.title('Temp in Hanoi')\n",
    "plt.xlabel('Collect time')\n",
    "plt.ylabel('Temp (Kelvin)')\n",
    "\n",
    "plt.show()"
   ]
  },
  {
   "cell_type": "code",
   "execution_count": null,
   "metadata": {},
   "outputs": [],
   "source": []
  }
 ],
 "metadata": {
  "kernelspec": {
   "display_name": "Python 3",
   "language": "python",
   "name": "python3"
  },
  "language_info": {
   "codemirror_mode": {
    "name": "ipython",
    "version": 3
   },
   "file_extension": ".py",
   "mimetype": "text/x-python",
   "name": "python",
   "nbconvert_exporter": "python",
   "pygments_lexer": "ipython3",
   "version": "3.11.9"
  }
 },
 "nbformat": 4,
 "nbformat_minor": 2
}
